{
 "cells": [
  {
   "cell_type": "markdown",
   "id": "11a22a53",
   "metadata": {},
   "source": [
    "# Дектораторы\n",
    "\n",
    "В этом домашнем задании мы напишем собственные дектораторы, которые будут менять системные объекты. Но для начала мы с вами познакомимся с функцией `write`."
   ]
  },
  {
   "cell_type": "code",
   "execution_count": 1,
   "id": "2c2dc3b0",
   "metadata": {},
   "outputs": [
    {
     "name": "stdout",
     "output_type": "stream",
     "text": [
      "Hello, my friend!"
     ]
    },
    {
     "data": {
      "text/plain": [
       "17"
      ]
     },
     "execution_count": 1,
     "metadata": {},
     "output_type": "execute_result"
    }
   ],
   "source": [
    "import sys\n",
    "\n",
    "sys.stdout.write('Hello, my friend!')"
   ]
  },
  {
   "cell_type": "markdown",
   "id": "23c92635",
   "metadata": {},
   "source": [
    "Это метод объектов file-like классов, то есть классов, которые реализуют семантику \"Меня можно создать, из меня можно прочитать и в меня можно записать\".\n",
    "\n",
    "Самый главный пример такого объекта -- объект `file`, являющийся результатом вызова фукнции `open()`. Для простоты и универсальности взаимодействия, стандартный ввод и стандартный вывод тоже являются файлами, из которых можно читать и в которые можно писать. "
   ]
  },
  {
   "cell_type": "code",
   "execution_count": 2,
   "id": "0ce62055",
   "metadata": {},
   "outputs": [],
   "source": [
    "output = open(\"./some_test_data.txt\", 'w')"
   ]
  },
  {
   "cell_type": "code",
   "execution_count": 3,
   "id": "302f574f",
   "metadata": {},
   "outputs": [
    {
     "data": {
      "text/plain": [
       "3"
      ]
     },
     "execution_count": 3,
     "metadata": {},
     "output_type": "execute_result"
    }
   ],
   "source": [
    "output.write('123')"
   ]
  },
  {
   "cell_type": "code",
   "execution_count": 4,
   "id": "d08c53b4",
   "metadata": {},
   "outputs": [],
   "source": [
    "output.close()"
   ]
  },
  {
   "cell_type": "markdown",
   "id": "b3bcebad",
   "metadata": {},
   "source": [
    "Как вы могли заметить, функция возвращает число записанных байт. Это важная часть контракта, которую нужно поддержать, если вы хотите как-то подменять эту функцию."
   ]
  },
  {
   "cell_type": "markdown",
   "id": "23b94491",
   "metadata": {},
   "source": [
    "## Задача 1"
   ]
  },
  {
   "cell_type": "markdown",
   "id": "1eb22a2f",
   "metadata": {},
   "source": [
    "\n",
    "Для начала, давайте подменим метод `write` у объекта `sys.stdin` на такую функцию, которая перед каждым вызовом оригинальной функции записи данных в `stdout` допечатывает к тексту текущую метку времени."
   ]
  },
  {
   "cell_type": "code",
   "execution_count": 8,
   "metadata": {},
   "outputs": [
    {
     "name": "stdout",
     "output_type": "stream",
     "text": [
      "[2023-12-16 12:01:23]: 1, 2, 3\n"
     ]
    }
   ],
   "source": [
    "import sys\n",
    "from datetime import datetime\n",
    "\n",
    "def my_write(string_text: str):\n",
    "    \"\"\"\n",
    "    Modifies how print() works by adding the current time \n",
    "    to the beginning of the output.\n",
    "    \"\"\"\n",
    "    now = datetime.now().strftime(\"[%Y-%m-%d %H:%M:%S]: \")\n",
    "    \n",
    "    if string_text.startswith(\"\\n\"):\n",
    "        original_write(string_text)\n",
    "    else:\n",
    "        original_write(now + string_text)\n",
    "    \n",
    "if __name__ == \"__main__\":\n",
    "    original_write = sys.stdout.write\n",
    "    sys.stdout.write = my_write\n",
    "\n",
    "    print(\"1, 2, 3\")\n",
    "    \n",
    "    sys.stdout.write = original_write"
   ]
  },
  {
   "cell_type": "markdown",
   "id": "3c5e22b6",
   "metadata": {},
   "source": [
    "Вывод должен был бы быть примерно таким:"
   ]
  },
  {
   "cell_type": "markdown",
   "id": "e62d012d",
   "metadata": {},
   "source": [
    "```\n",
    "[2021-12-05 12:00:00]: 1, 2, 3\n",
    "```"
   ]
  },
  {
   "cell_type": "markdown",
   "id": "903fcee1",
   "metadata": {},
   "source": [
    "## Задача 2\n",
    "\n",
    "Упакуйте только что написанный код в декторатор. Весь вывод фукнции должен быть помечен временными метками так, как видно выше."
   ]
  },
  {
   "cell_type": "code",
   "execution_count": 11,
   "metadata": {},
   "outputs": [
    {
     "name": "stdout",
     "output_type": "stream",
     "text": [
      "[2023-12-16 12:01:30]: Hello, Nikita!\n"
     ]
    }
   ],
   "source": [
    "import sys\n",
    "from datetime import datetime\n",
    "from typing import Callable\n",
    "\n",
    "\n",
    "def timed_output(func: Callable):\n",
    "    \"\"\"\n",
    "    Decorator for the func.\n",
    "    \"\"\"\n",
    "    original_write = sys.stdout.write\n",
    "\n",
    "    def my_write(string_text: str):\n",
    "        \"\"\"\n",
    "        Modifies how print() works by adding the current time \n",
    "        to the beginning of the output.\n",
    "        \"\"\"\n",
    "        now = datetime.now().strftime(\"[%Y-%m-%d %H:%M:%S]: \")\n",
    "        \n",
    "        if string_text.startswith(\"\\n\"):\n",
    "            original_write(string_text)\n",
    "        else:\n",
    "            original_write(now + string_text)\n",
    "\n",
    "    def wrapper(*args, **kwargs):\n",
    "        \"\"\"\n",
    "        Wrapper for the func.\n",
    "        \"\"\"\n",
    "        sys.stdout.write = my_write\n",
    "        func(*args, **kwargs)\n",
    "        sys.stdout.write = original_write\n",
    "\n",
    "    return wrapper\n",
    "\n",
    "\n",
    "@timed_output\n",
    "def print_greeting(name: str):\n",
    "    \"\"\"\n",
    "    A function that greets the passed object.\n",
    "    \"\"\"\n",
    "    print(f\"Hello, {name}!\")\n",
    "\n",
    "\n",
    "if __name__ == \"__main__\":\n",
    "    print_greeting(\"Nikita\")"
   ]
  },
  {
   "cell_type": "markdown",
   "id": "37fad5fd",
   "metadata": {},
   "source": [
    "Вывод должен быть похож на следующий:\n",
    "\n",
    "```\n",
    "[2021-12-05 12:00:00]: Hello, Nikita!\n",
    "```"
   ]
  },
  {
   "cell_type": "markdown",
   "id": "8a3aee6d",
   "metadata": {},
   "source": [
    "## Задача 3\n",
    "\n",
    "Напишите декторатор, который будет перенаправлять вывод фукнции в файл. \n",
    "\n",
    "Подсказка: вы можете заменить объект sys.stdout каким-нибудь другим объектом."
   ]
  },
  {
   "cell_type": "code",
   "execution_count": 13,
   "id": "de733186",
   "metadata": {},
   "outputs": [],
   "source": [
    "import sys\n",
    "from typing import Callable\n",
    "\n",
    "\n",
    "def redirect_output(filepath):\n",
    "    \"\"\"\n",
    "    Decorator that redirects the output of a function to a file.\n",
    "    \"\"\"\n",
    "    class FileWrapper:\n",
    "        \"\"\"\n",
    "        Wrapper class that redirects the output to a file.\n",
    "        \"\"\"\n",
    "        def __init__(self, path: str):\n",
    "            self.file = None\n",
    "            self.path = path\n",
    "            self.original_stdout = sys.stdout\n",
    "\n",
    "        def __enter__(self):\n",
    "            \"\"\"\n",
    "            Enter method called when entering a 'with' statement.\n",
    "            \"\"\"\n",
    "            self.file = open(self.path, \"w\")\n",
    "            sys.stdout = self.file\n",
    "\n",
    "            return self\n",
    "\n",
    "        def __exit__(self, ex_type, ex_value, traceback):\n",
    "            \"\"\"\n",
    "            Exit method called when leaving a 'with' statement.\n",
    "            \"\"\"\n",
    "            self.file.close()\n",
    "            sys.stdout = self.original_stdout\n",
    "\n",
    "    def decorator(func):\n",
    "        def wrapper(*args, **kwargs):\n",
    "            \"\"\"\n",
    "            Wrapper function that redirects the function's output to a file.\n",
    "            \"\"\"\n",
    "            with FileWrapper(filepath):\n",
    "                result = func(*args, **kwargs)\n",
    "                \n",
    "            return result\n",
    "\n",
    "        return wrapper\n",
    "\n",
    "    return decorator\n",
    "\n",
    "\n",
    "@redirect_output(\"./function_output.txt\")\n",
    "def calculate():\n",
    "    \"\"\"\n",
    "    Print matrix of powers of numbers from 1 to 19.\n",
    "    \"\"\"\n",
    "    for power in range(1, 5):\n",
    "        for num in range(1, 20):\n",
    "            print(num ** power, end=\" \")\n",
    "        print()\n",
    "\n",
    "\n",
    "if __name__ == \"__main__\":\n",
    "    calculate()"
   ]
  }
 ],
 "metadata": {
  "kernelspec": {
   "display_name": "Python 3 (ipykernel)",
   "language": "python",
   "name": "python3"
  },
  "language_info": {
   "codemirror_mode": {
    "name": "ipython",
    "version": 3
   },
   "file_extension": ".py",
   "mimetype": "text/x-python",
   "name": "python",
   "nbconvert_exporter": "python",
   "pygments_lexer": "ipython3",
   "version": "3.9.6"
  }
 },
 "nbformat": 4,
 "nbformat_minor": 5
}
